{
 "cells": [
  {
   "cell_type": "code",
   "execution_count": 33,
   "metadata": {},
   "outputs": [],
   "source": [
    "import pefile\n",
    "import pandas as pd\n",
    "import os\n",
    "\n"
   ]
  },
  {
   "cell_type": "code",
   "execution_count": 54,
   "metadata": {},
   "outputs": [],
   "source": [
    "def join_datasets():\n",
    "    directory = \"./MALWR/\"\n",
    "    general_data = []\n",
    "    for filename in os.listdir(directory):\n",
    "        if filename != '.DS_Store':\n",
    "            filepath = os.path.join(directory, filename)\n",
    "            pe = pefile.PE(filepath)\n",
    "            virtualSize = []\n",
    "            virtualAddress = []\n",
    "            sections = []\n",
    "            rawDataSize = []\n",
    "            for section in pe.sections:\n",
    "                sections.append(str(section.Name.decode('utf-8')).rstrip('\\x00'))\n",
    "                virtualAddress.append(hex(section.VirtualAddress))\n",
    "                virtualSize.append(hex(section.Misc_VirtualSize))\n",
    "                rawDataSize.append(section.SizeOfRawData)               \n",
    "            dllCalls = []\n",
    "            functionsCalled = []\n",
    "            for entry in pe.DIRECTORY_ENTRY_IMPORT:\n",
    "                dllCalls.append(entry.dll.decode('utf-8'))\n",
    "                for function in entry.imports:\n",
    "                    functionsCalled.append(function.name.decode('utf-8'))\n",
    "        general_data.append([filename, sections, virtualAddress, virtualSize, rawDataSize, dllCalls, functionsCalled])\n",
    "            \n",
    "    \n",
    "    column_names = ['sections', 'virtualAddress', 'virtualSize', 'rawDataSize', 'dllCalls', 'functionsCalled']\n",
    "\n",
    "    df = pd.DataFrame(data=general_data, columns=column_names)\n",
    "    return df\n",
    "\n"
   ]
  },
  {
   "cell_type": "code",
   "execution_count": 58,
   "metadata": {},
   "outputs": [
    {
     "data": {
      "text/plain": [
       "121"
      ]
     },
     "execution_count": 58,
     "metadata": {},
     "output_type": "execute_result"
    }
   ],
   "source": [
    "df = join_datasets()\n",
    "len(df)"
   ]
  }
 ],
 "metadata": {
  "kernelspec": {
   "display_name": "venv",
   "language": "python",
   "name": "python3"
  },
  "language_info": {
   "codemirror_mode": {
    "name": "ipython",
    "version": 3
   },
   "file_extension": ".py",
   "mimetype": "text/x-python",
   "name": "python",
   "nbconvert_exporter": "python",
   "pygments_lexer": "ipython3",
   "version": "3.10.6"
  },
  "orig_nbformat": 4
 },
 "nbformat": 4,
 "nbformat_minor": 2
}
