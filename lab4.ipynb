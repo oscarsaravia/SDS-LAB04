{
 "cells": [
  {
   "cell_type": "code",
   "execution_count": 2,
   "metadata": {},
   "outputs": [],
   "source": [
    "import pefile\n",
    "import hashlib"
   ]
  },
  {
   "cell_type": "code",
   "execution_count": 3,
   "metadata": {},
   "outputs": [
    {
     "name": "stdout",
     "output_type": "stream",
     "text": [
      "VALOR DEL HASH:  0a76f1439cc52fed9e9627f82686c6daedefcf191952ae2c8e5879f1332711b8\n"
     ]
    }
   ],
   "source": [
    "pe_file_path = './MALWR/1F2EB7B090018D975E6D9B40868C94CA'\n",
    "pe = pefile.PE(pe_file_path)\n",
    "with open(pe_file_path, 'rb') as f:\n",
    "        content = f.read()\n",
    "        hash_object = hashlib.sha256(content)\n",
    "        print('VALOR DEL HASH: ', hash_object.hexdigest())"
   ]
  },
  {
   "cell_type": "code",
   "execution_count": 4,
   "metadata": {},
   "outputs": [
    {
     "name": "stdout",
     "output_type": "stream",
     "text": [
      "SECCIONES \t\n",
      "b'UPX0\\x00\\x00\\x00\\x00' 0x1000 0x5000 0\n",
      "b'UPX1\\x00\\x00\\x00\\x00' 0x6000 0x1000 3584\n",
      "b'.rsrc\\x00\\x00\\x00' 0x7000 0x1000 512\n"
     ]
    }
   ],
   "source": [
    "print('SECCIONES \\t')\n",
    "for section in pe.sections:\n",
    "    print(section.Name, hex(section.VirtualAddress), hex(section.Misc_VirtualSize), section.SizeOfRawData)"
   ]
  },
  {
   "cell_type": "code",
   "execution_count": 5,
   "metadata": {},
   "outputs": [
    {
     "name": "stdout",
     "output_type": "stream",
     "text": [
      "LLAMADAS A DLL \t\n",
      "b'KERNEL32.DLL'\n",
      "LLAMADAS A FUNCIONES \t\n",
      "\t b'LoadLibraryA'\n",
      "\t b'ExitProcess'\n",
      "\t b'GetProcAddress'\n",
      "\t b'VirtualProtect'\n",
      "LLAMADAS A DLL \t\n",
      "b'MSVCRT.dll'\n",
      "LLAMADAS A FUNCIONES \t\n",
      "\t b'atol'\n",
      "LLAMADAS A DLL \t\n",
      "b'USER32.dll'\n",
      "LLAMADAS A FUNCIONES \t\n",
      "\t b'LoadStringA'\n",
      "LLAMADAS A DLL \t\n",
      "b'WS2_32.dll'\n",
      "LLAMADAS A FUNCIONES \t\n",
      "\t b'send'\n"
     ]
    }
   ],
   "source": [
    "for entry in pe.DIRECTORY_ENTRY_IMPORT:\n",
    "    print('LLAMADAS A DLL \\t')\n",
    "    print (entry.dll)\n",
    "    print('LLAMADAS A FUNCIONES \\t')\n",
    "    for function in entry.imports:\n",
    "        print ('\\t', function.name)"
   ]
  },
  {
   "cell_type": "code",
   "execution_count": 6,
   "metadata": {},
   "outputs": [
    {
     "name": "stdout",
     "output_type": "stream",
     "text": [
      "TimeDateStamp : Fri Jan 15 17:20:56 2010 UTC\n",
      "TimeDateStamp: 0x4b50a3f8\n"
     ]
    }
   ],
   "source": [
    "print(\"TimeDateStamp : \" + pe.FILE_HEADER.dump_dict()['TimeDateStamp']['Value'].split('[')[1][:-1])\n",
    "print(\"TimeDateStamp: \"+hex(pe.FILE_HEADER.TimeDateStamp))"
   ]
  }
 ],
 "metadata": {
  "kernelspec": {
   "display_name": "venv",
   "language": "python",
   "name": "python3"
  },
  "language_info": {
   "codemirror_mode": {
    "name": "ipython",
    "version": 3
   },
   "file_extension": ".py",
   "mimetype": "text/x-python",
   "name": "python",
   "nbconvert_exporter": "python",
   "pygments_lexer": "ipython3",
   "version": "3.10.6"
  },
  "orig_nbformat": 4
 },
 "nbformat": 4,
 "nbformat_minor": 2
}
